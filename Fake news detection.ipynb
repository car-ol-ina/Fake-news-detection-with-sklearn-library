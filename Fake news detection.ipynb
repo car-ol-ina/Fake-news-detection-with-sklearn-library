{
 "cells": [
  {
   "cell_type": "markdown",
   "metadata": {},
   "source": [
    "# Detecting Fake News"
   ]
  },
  {
   "cell_type": "markdown",
   "metadata": {},
   "source": [
    "This advanced python project of detecting fake news deals with fake and real news. Using sklearn, we build a TfidfVectorizer on our dataset. Then, we initialize a PassiveAggressive Classifier and fit the model. In the end, the accuracy score and the confusion matrix tell us how well our model fares."
   ]
  },
  {
   "cell_type": "markdown",
   "metadata": {},
   "source": [
    "Passive Aggressive algorithms are online learning algorithms. Such an algorithm remains passive for a correct classification outcome, and turns aggressive in the event of a miscalculation, updating and adjusting. Unlike most other algorithms, it does not converge. Its purpose is to make updates that correct the loss, causing very little change in the norm of the weight vector."
   ]
  },
  {
   "cell_type": "code",
   "execution_count": 1,
   "metadata": {},
   "outputs": [],
   "source": [
    "import numpy as np\n",
    "import pandas as pd\n",
    "import itertools\n",
    "from sklearn.model_selection import train_test_split\n",
    "from sklearn.feature_extraction.text import TfidfVectorizer\n",
    "from sklearn.linear_model import PassiveAggressiveClassifier\n",
    "from sklearn.metrics import accuracy_score, confusion_matrix"
   ]
  },
  {
   "cell_type": "code",
   "execution_count": 6,
   "metadata": {},
   "outputs": [],
   "source": [
    "import csv"
   ]
  },
  {
   "cell_type": "code",
   "execution_count": 12,
   "metadata": {},
   "outputs": [],
   "source": [
    "#Read csv file with pandas: file = pd.read_csv('file_directory')\n",
    "df=pd.read_csv('news.csv')"
   ]
  },
  {
   "cell_type": "code",
   "execution_count": 39,
   "metadata": {},
   "outputs": [
    {
     "data": {
      "text/html": [
       "<div>\n",
       "<style scoped>\n",
       "    .dataframe tbody tr th:only-of-type {\n",
       "        vertical-align: middle;\n",
       "    }\n",
       "\n",
       "    .dataframe tbody tr th {\n",
       "        vertical-align: top;\n",
       "    }\n",
       "\n",
       "    .dataframe thead th {\n",
       "        text-align: right;\n",
       "    }\n",
       "</style>\n",
       "<table border=\"1\" class=\"dataframe\">\n",
       "  <thead>\n",
       "    <tr style=\"text-align: right;\">\n",
       "      <th></th>\n",
       "      <th>Unnamed: 0</th>\n",
       "      <th>title</th>\n",
       "      <th>text</th>\n",
       "      <th>label</th>\n",
       "    </tr>\n",
       "  </thead>\n",
       "  <tbody>\n",
       "    <tr>\n",
       "      <th>0</th>\n",
       "      <td>8476</td>\n",
       "      <td>You Can Smell Hillary’s Fear</td>\n",
       "      <td>Daniel Greenfield, a Shillman Journalism Fello...</td>\n",
       "      <td>FAKE</td>\n",
       "    </tr>\n",
       "    <tr>\n",
       "      <th>1</th>\n",
       "      <td>10294</td>\n",
       "      <td>Watch The Exact Moment Paul Ryan Committed Pol...</td>\n",
       "      <td>Google Pinterest Digg Linkedin Reddit Stumbleu...</td>\n",
       "      <td>FAKE</td>\n",
       "    </tr>\n",
       "    <tr>\n",
       "      <th>2</th>\n",
       "      <td>3608</td>\n",
       "      <td>Kerry to go to Paris in gesture of sympathy</td>\n",
       "      <td>U.S. Secretary of State John F. Kerry said Mon...</td>\n",
       "      <td>REAL</td>\n",
       "    </tr>\n",
       "    <tr>\n",
       "      <th>3</th>\n",
       "      <td>10142</td>\n",
       "      <td>Bernie supporters on Twitter erupt in anger ag...</td>\n",
       "      <td>— Kaydee King (@KaydeeKing) November 9, 2016 T...</td>\n",
       "      <td>FAKE</td>\n",
       "    </tr>\n",
       "    <tr>\n",
       "      <th>4</th>\n",
       "      <td>875</td>\n",
       "      <td>The Battle of New York: Why This Primary Matters</td>\n",
       "      <td>It's primary day in New York and front-runners...</td>\n",
       "      <td>REAL</td>\n",
       "    </tr>\n",
       "  </tbody>\n",
       "</table>\n",
       "</div>"
      ],
      "text/plain": [
       "   Unnamed: 0                                              title  \\\n",
       "0        8476                       You Can Smell Hillary’s Fear   \n",
       "1       10294  Watch The Exact Moment Paul Ryan Committed Pol...   \n",
       "2        3608        Kerry to go to Paris in gesture of sympathy   \n",
       "3       10142  Bernie supporters on Twitter erupt in anger ag...   \n",
       "4         875   The Battle of New York: Why This Primary Matters   \n",
       "\n",
       "                                                text label  \n",
       "0  Daniel Greenfield, a Shillman Journalism Fello...  FAKE  \n",
       "1  Google Pinterest Digg Linkedin Reddit Stumbleu...  FAKE  \n",
       "2  U.S. Secretary of State John F. Kerry said Mon...  REAL  \n",
       "3  — Kaydee King (@KaydeeKing) November 9, 2016 T...  FAKE  \n",
       "4  It's primary day in New York and front-runners...  REAL  "
      ]
     },
     "execution_count": 39,
     "metadata": {},
     "output_type": "execute_result"
    }
   ],
   "source": [
    "#Get shape and head\n",
    "df.head()"
   ]
  },
  {
   "cell_type": "code",
   "execution_count": 16,
   "metadata": {},
   "outputs": [
    {
     "data": {
      "text/plain": [
       "(6335, 4)"
      ]
     },
     "execution_count": 16,
     "metadata": {},
     "output_type": "execute_result"
    }
   ],
   "source": [
    "df.shape"
   ]
  },
  {
   "cell_type": "code",
   "execution_count": 41,
   "metadata": {},
   "outputs": [
    {
     "name": "stdout",
     "output_type": "stream",
     "text": [
      "How Ted Cruz Became Ted Cruz\n",
      "\n",
      "In 2008, in the high-profile Supreme Court gun-rights case called District of Columbia v. Heller, a brief was filed from the eighth floor of the Price Daniel Sr. State Office Building in Austin, Texas, specifically from the corner office of the man who was then the state’s solicitor general, Ted Cruz.\n",
      "\n",
      "The brief took a strong stance on the divisive question of whether the Second Amendment establishes an individual right to own guns, or just protects state and local militias. The brief argued forcefully for the first view, writing that “the individual right to keep and bear arms” is a “fundamental right” and that “an individual right that can be altogether abrogated is no right at all.” Thirty attorneys general from other states signed on.\n",
      "\n",
      "Today, with the White House pushing new gun restrictions and Cruz's candidacy riding on next month's Iowa caucuses, it's no surprise that the Texas Republican would embrace gun rights as a defining issue, holding an event at a firing range and even raffling off an engraved 12-gauge shotgun as a campaign promotion.\n",
      "\n",
      "In 2008, the situation was very different: he was wading into a case that had no immediate connection to Texas at all. But to see the signature of R. Ted Cruz on the brief would not have surprised the nine Supreme Court justices in the least. By that time, Cruz had been solicitor general for five years, and inserting himself into a case of wide prominence and importance regardless of any direct tie to Texas had become part of his playbook. He clearly saw the Heller case as a watershed in gun rights, writing that it would “determine whether the Second Amendment has any modern relevance.” And he was right. The Supreme Court in a 5-4 decision shot down the Washington, D.C., handgun ban and ruled for the first time in the history of this country that the amendment ensures an individual person’s right to have a gun for self-defense. The National Rifle Association recognized Cruz’s role with a resolution.\n",
      "\n",
      "As Cruz climbs to the top of the Republican presidential field, the five-plus years he served as the solicitor general of Texas remain the most important period in his public résumé. They’re the record he ran on when he was elected to the U.S. Senate in 2012—and they represent significantly more of his working life than the three years he has served so far in the Senate. They're also a prime source of fodder for liberal and moderate critics, should be become the Republican presidential nominee.\n",
      "\n",
      "A Politico review of Cruz’s record as solicitor general shows he used the role in a new and far more ideological way than his predecessors, taking a relatively low-profile job that had traditionally been used mostly to defend the state government and turning it into a stage for pushing national conservative causes. Cruz argued eight cases in front of the U.S. Supreme Court—far more than his predecessors and successors—using each of them to advance a position endorsed by conservative thinkers. He also was the counsel of record on some 70 friend-of-the-court briefs, or amicus briefs, weighing in on cases across the country, like Heller, in which Texas had no direct stake, but which similarly offered a chance to argue ideological points.\n",
      "\n",
      "“He really turned the office into a platform,” David Bernstein, a George Mason law professor who recently wrote a book about the Obama administration for which Cruz wrote the foreword, said in an interview.\n",
      "\n",
      "“He built up the national aura of the office,” said Tom Phillips, who was the chief justice of the Supreme Court of Texas at the start of Cruz’s run as solicitor general.\n",
      "\n",
      "Cruz’s zealous work served the ambitions of the conservative movement, but he also personally used it to build a bridge between what he was (an elite constitutional law nerd) to what he is today (an ascendant right-wing politician). Yet while pleasing to conservatives, other aspects of his record are sure to attract critics. He argued against leniency for an unjustly sentenced man whose lawyer had made a technical mistake; he invoked 13th-century “Saxon law” and the practice of cutting off testicles to justify harsher punishments in a rape case; and he referred to a late-term abortion technique as “infanticide.”\n",
      "\n",
      "Although little examined in the race so far, Cruz’s time as solicitor general built him a powerful allegiance among the conservative donors necessary to launch a national campaign. Heading into Iowa, New Hampshire, South Carolina and beyond, he has more money at his disposal than any candidate besides Jeb Bush. And the way he used that Texas office is part of the reason. Toby Neugebauer, who wrote a $10 million check to the Cruz super PAC called Keep the Promise II, told me the reason he did that—the single reason—is what Cruz did as solicitor general. He said other major donors feel the same way.\n",
      "\n",
      "“We’re backing someone,” Neugebauer told me, “that had a worldview and went out and executed on it.”\n",
      "\n",
      "Cruz took the solicitor job as a reboot of sorts after his initial foray into politics had fizzled.\n",
      "\n",
      "As a debater at Princeton, as a law school student at Harvard, and as a clerk to then-Supreme Court Chief Justice William Rehnquist, Cruz was widely considered brilliant—but he left his first real job as a promising appellate attorney in private practice in Washington to instead toil in 2000 as a domestic policy analyst in George W. Bush’s presidential campaign, then as a legal hand for Bush’s team in the frantic recount in Florida that ultimately won Bush the election.\n",
      "\n",
      "In return, Cruz “desperately” wanted “a senior post” in the White House, he wrote in his autobiography. On the campaign, though, he had earned a reputation for his outsized ego as much as for his obvious intelligence, and the post-election jobs he got were out-of-the-way roles at the Department of Justice and the Federal Trade Commission. “I just don’t like the guy,” Bush has said since. The solicitor general role in his home state of Texas, offered to him by Greg Abbott—then the attorney general of Texas, now the governor—was a political lifeline.\n",
      "\n",
      "From the start, it offered a chance to turn his legal acumen into political potential, because it came with a green light to advance conservative aims in the courts. Abbott’s directive for the solicitor general of Texas, Cruz said in his book, was to “look across the country” and “identify chances to defend conservative principles.”\n",
      "\n",
      "This is not the traditional definition of a solicitor general’s job, which comes with two main duties. The first: States get sued, attorneys general and their staffs respond, and some of the cases get appealed—and that’s where the solicitor general comes in, representing the state in higher courts, where the cases are the most legalistic and complex. The second: the writing of amicus briefs in cases elsewhere in which a state believes it has an interest even though it’s not a party.\n",
      "\n",
      "The first part can be seen as defense. The second part is more like offense, selectively advancing the interests of the state. The way Cruz did the job? Even the defense was offense, and the interests being asserted were less those of the state than its conservative leaders.\n",
      "\n",
      "“Texas is a huge state, and there’s plenty of work for the attorney general’s office to do,” said Jim Ho, an attorney in Dallas who succeeded Cruz as solicitor general and is a friend and supporter. Cruz, though, “was not content to simply do what was asked and go home.”\n",
      "\n",
      "When it came to cases that allowed him to argue for things like the forceful application of the death penalty and expressions of religion in the public arena and against things like abortion and gun control, Ho told me, Cruz “was on constant watch for opportunities to press a conservative vision of the Constitution.”\n"
     ]
    }
   ],
   "source": [
    "print(df.title[100] + '\\n\\n' + df.text[100])"
   ]
  },
  {
   "cell_type": "code",
   "execution_count": 43,
   "metadata": {},
   "outputs": [],
   "source": [
    "labels = df.label"
   ]
  },
  {
   "cell_type": "code",
   "execution_count": 48,
   "metadata": {},
   "outputs": [
    {
     "data": {
      "text/plain": [
       "0    FAKE\n",
       "1    FAKE\n",
       "2    REAL\n",
       "3    FAKE\n",
       "4    REAL\n",
       "5    FAKE\n",
       "6    FAKE\n",
       "7    REAL\n",
       "8    REAL\n",
       "9    REAL\n",
       "Name: label, dtype: object"
      ]
     },
     "execution_count": 48,
     "metadata": {},
     "output_type": "execute_result"
    }
   ],
   "source": [
    "labels[:10]"
   ]
  },
  {
   "cell_type": "markdown",
   "metadata": {},
   "source": [
    "### Split the dataset into training and testing sets\n",
    "Using the train_test_split from sklearn library"
   ]
  },
  {
   "cell_type": "code",
   "execution_count": 49,
   "metadata": {},
   "outputs": [],
   "source": [
    "x_train, x_test, y_train, y_test = train_test_split(df['text'], labels, test_size=0.2, random_state=7)"
   ]
  },
  {
   "cell_type": "code",
   "execution_count": 51,
   "metadata": {},
   "outputs": [
    {
     "data": {
      "text/plain": [
       "6237    FAKE\n",
       "3722    FAKE\n",
       "5774    FAKE\n",
       "336     REAL\n",
       "3622    REAL\n",
       "        ... \n",
       "5699    FAKE\n",
       "2550    REAL\n",
       "537     REAL\n",
       "1220    REAL\n",
       "4271    REAL\n",
       "Name: label, Length: 5068, dtype: object"
      ]
     },
     "execution_count": 51,
     "metadata": {},
     "output_type": "execute_result"
    }
   ],
   "source": [
    "y_train"
   ]
  },
  {
   "cell_type": "markdown",
   "metadata": {},
   "source": [
    "## TfidfVectorizer\n",
    "\n",
    "\n",
    "\n",
    "$\\text{TF (Term Frequency)}$: \n",
    "\n",
    "The number of times a word appears in a document is its Term Frequency. A higher value means a term appears more often than others, and so, the document is a good match when the term is part of the search terms.\n",
    "\n",
    "$\\text{IDF (Inverse Document Frequency)}$:\n",
    "\n",
    "Words that occur many times a document, but also occur many times in many others, may be irrelevant. IDF is a measure of how significant a term is in the entire corpus.\n",
    "\n",
    "The TfidfVectorizer converts a collection of raw documents into a matrix of TF-IDF features."
   ]
  },
  {
   "cell_type": "markdown",
   "metadata": {},
   "source": [
    "#### Let’s initialize a TfidfVectorizer with stop words from the English language and a maximum document frequency of 0.7 (terms with a higher document frequency will be discarded). Stop words are the most common words in a language that are to be filtered out before processing the natural language data. And a TfidfVectorizer turns a collection of raw documents into a matrix of TF-IDF features."
   ]
  },
  {
   "cell_type": "markdown",
   "metadata": {},
   "source": [
    "Now, fit and transform the vectorizer on the train set, and transform the vectorizer on the test set."
   ]
  },
  {
   "cell_type": "code",
   "execution_count": 52,
   "metadata": {},
   "outputs": [],
   "source": [
    "#DataFlair - Initialize a TfidfVectorizer\n",
    "tfidf_vectorizer=TfidfVectorizer(stop_words='english', max_df=0.7)\n",
    "\n",
    "#DataFlair - Fit and transform train set, transform test set\n",
    "tfidf_train=tfidf_vectorizer.fit_transform(x_train) \n",
    "tfidf_test=tfidf_vectorizer.transform(x_test)"
   ]
  },
  {
   "cell_type": "markdown",
   "metadata": {},
   "source": [
    "### Initialize a PassiveAggressiveClassifier\n",
    "\n",
    "Then, we’ll predict on the test set from the TfidfVectorizer and calculate the accuracy with accuracy_score() from sklearn.metrics."
   ]
  },
  {
   "cell_type": "code",
   "execution_count": 53,
   "metadata": {},
   "outputs": [
    {
     "name": "stdout",
     "output_type": "stream",
     "text": [
      "Accuracy: 92.66%\n"
     ]
    }
   ],
   "source": [
    "#DataFlair - Initialize a PassiveAggressiveClassifier\n",
    "pac=PassiveAggressiveClassifier(max_iter=50)\n",
    "pac.fit(tfidf_train,y_train)\n",
    "\n",
    "#DataFlair - Predict on the test set and calculate accuracy\n",
    "y_pred=pac.predict(tfidf_test)\n",
    "score=accuracy_score(y_test,y_pred)\n",
    "print(f'Accuracy: {round(score*100,2)}%')"
   ]
  },
  {
   "cell_type": "code",
   "execution_count": 54,
   "metadata": {},
   "outputs": [
    {
     "data": {
      "text/plain": [
       "array([[586,  52],\n",
       "       [ 41, 588]], dtype=int64)"
      ]
     },
     "execution_count": 54,
     "metadata": {},
     "output_type": "execute_result"
    }
   ],
   "source": [
    "#DataFlair - Build confusion matrix\n",
    "confusion_matrix(y_test,y_pred, labels=['FAKE','REAL'])"
   ]
  },
  {
   "cell_type": "markdown",
   "metadata": {},
   "source": [
    "So with this model, we have 586 true positives, 588 true negatives, 41 false positives, and 52 false negatives."
   ]
  },
  {
   "cell_type": "code",
   "execution_count": null,
   "metadata": {},
   "outputs": [],
   "source": []
  }
 ],
 "metadata": {
  "kernelspec": {
   "display_name": "Python 3",
   "language": "python",
   "name": "python3"
  },
  "language_info": {
   "codemirror_mode": {
    "name": "ipython",
    "version": 3
   },
   "file_extension": ".py",
   "mimetype": "text/x-python",
   "name": "python",
   "nbconvert_exporter": "python",
   "pygments_lexer": "ipython3",
   "version": "3.8.3"
  }
 },
 "nbformat": 4,
 "nbformat_minor": 4
}
